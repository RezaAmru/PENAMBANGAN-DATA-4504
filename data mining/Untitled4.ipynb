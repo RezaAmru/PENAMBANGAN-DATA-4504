{
 "cells": [
  {
   "cell_type": "code",
   "execution_count": 3,
   "id": "a13af7c4-03cb-4e8e-8358-d1ad3a08aea5",
   "metadata": {},
   "outputs": [],
   "source": [
    "import pandas as pd"
   ]
  },
  {
   "cell_type": "code",
   "execution_count": 17,
   "id": "1244b565-ba58-47e2-bb48-7648059a670b",
   "metadata": {},
   "outputs": [],
   "source": [
    "file_path = 'D:\\\\SMESTER5\\\\dataKasus-1.xlsx'\n",
    "data = pd.read_excel(file_path)\n"
   ]
  },
  {
   "cell_type": "code",
   "execution_count": 19,
   "id": "273b4375-1b4d-4a18-9a70-e66cbaa17e2a",
   "metadata": {},
   "outputs": [
    {
     "name": "stdout",
     "output_type": "stream",
     "text": [
      "   NO    NAMA   USIA  PARITAS JARAK KELAHIRAN RIW HIPERTENSI RIW PE OBESITAS  \\\n",
      "0   1  NAMA 1  23 TH        3       < 2 tahun          Tidak  Tidak    Tidak   \n",
      "1   2  NAMA 2  29 TH        2       < 2 tahun          Tidak    PEB    Tidak   \n",
      "2   3  NAMA 3  20 TH        1    anak pertama          Tidak  Tidak    Tidak   \n",
      "3   4  NAMA 4  18 TH        1    anak pertama          Tidak  Tidak    Tidak   \n",
      "4   5  NAMA 5  34 TH        3      > 2 tahun           Tidak  Tidak    Tidak   \n",
      "\n",
      "  RIW DM RIW HIPERTENSI/PE DALAM KELUARGA SOSEK RENDAH PE/Non PE Unnamed: 12  \n",
      "0     Ya                            Tidak         >UMR    Non PE         NaN  \n",
      "1  Tidak                              Ada         >UMR        PE         NaN  \n",
      "2  Tidak                            Tidak         >UMR    Non PE         NaN  \n",
      "3  Tidak                            Tidak         >UMR    Non PE         NaN  \n",
      "4  Tidak                            Tidak         >UMR    Non PE         NaN  \n"
     ]
    }
   ],
   "source": [
    "# Lihat beberapa baris pertama\n",
    "print(data.head())"
   ]
  },
  {
   "cell_type": "code",
   "execution_count": 53,
   "id": "69da3539-f6ce-42a7-9a19-2092b83faf0c",
   "metadata": {},
   "outputs": [
    {
     "name": "stdout",
     "output_type": "stream",
     "text": [
      "NO                                    0\n",
      "NAMA                                  0\n",
      "USIA                                  3\n",
      "PARITAS                               0\n",
      "JARAK KELAHIRAN                       7\n",
      "RIW HIPERTENSI                        0\n",
      "RIW PE                                0\n",
      "OBESITAS                              0\n",
      "RIW DM                                0\n",
      "RIW HIPERTENSI/PE DALAM KELUARGA      0\n",
      "SOSEK RENDAH                          0\n",
      "PE/Non PE                             0\n",
      "Unnamed: 12                         550\n",
      "dtype: int64\n"
     ]
    }
   ],
   "source": [
    "# Cek nilai kosong\n",
    "print(data.isnull().sum())\n"
   ]
  },
  {
   "cell_type": "code",
   "execution_count": 25,
   "id": "7f877f75-663b-4a63-8694-e4e261054010",
   "metadata": {},
   "outputs": [
    {
     "name": "stdout",
     "output_type": "stream",
     "text": [
      "Index(['NO', 'NAMA', 'USIA', 'PARITAS', 'JARAK KELAHIRAN', 'RIW HIPERTENSI',\n",
      "       'RIW PE', 'OBESITAS', 'RIW DM', 'RIW HIPERTENSI/PE DALAM KELUARGA',\n",
      "       'SOSEK RENDAH', 'PE/Non PE', 'Unnamed: 12'],\n",
      "      dtype='object')\n"
     ]
    }
   ],
   "source": [
    "print(data.columns)\n"
   ]
  },
  {
   "cell_type": "code",
   "execution_count": 37,
   "id": "a4db44d5-1125-4304-bf9b-e6162a683bb1",
   "metadata": {},
   "outputs": [],
   "source": [
    "# Memisahkan fitur dan target\n",
    "X = data.drop(columns=['NO', 'NAMA', 'PE/Non PE', 'Unnamed: 12'])  # Menghapus kolom yang tidak diperlukan\n",
    "y = data['PE/Non PE']  # Menggunakan kolom 'PE/Non PE' sebagai target\n"
   ]
  },
  {
   "cell_type": "code",
   "execution_count": 51,
   "id": "805ed6c7-d975-4cf0-9c52-268b206d4e9d",
   "metadata": {},
   "outputs": [],
   "source": [
    "from sklearn.model_selection import train_test_split\n",
    "\n",
    "X_train, X_test, y_train, y_test = train_test_split(X, y, test_size=0.3, random_state=42)\n"
   ]
  },
  {
   "cell_type": "code",
   "execution_count": 57,
   "id": "8fe0f440-c489-4961-861e-2cefe9affa2e",
   "metadata": {},
   "outputs": [],
   "source": [
    "# Bersihkan data pada kolom 'USIA' dari karakter non-numerik\n",
    "data['USIA'] = data['USIA'].str.replace(r'\\D', '', regex=True).astype(float)\n"
   ]
  },
  {
   "cell_type": "code",
   "execution_count": 59,
   "id": "4cc70973-e1ef-4868-995c-392fe0a9051c",
   "metadata": {},
   "outputs": [],
   "source": [
    "# Pisahkan fitur (X) dan target (y)\n",
    "X = data.drop(columns=['NO', 'NAMA', 'PE/Non PE', 'Unnamed: 12'])  # Kolom yang tidak diperlukan\n",
    "y = data['PE/Non PE']"
   ]
  },
  {
   "cell_type": "code",
   "execution_count": 61,
   "id": "942ef98e-e832-4506-8463-875cb165dd25",
   "metadata": {},
   "outputs": [],
   "source": [
    "# Bagi data menjadi data pelatihan dan pengujian\n",
    "from sklearn.model_selection import train_test_split\n",
    "X_train, X_test, y_train, y_test = train_test_split(X, y, test_size=0.3, random_state=42)"
   ]
  },
  {
   "cell_type": "code",
   "execution_count": 65,
   "id": "f22a740e-79af-4962-b6dd-bf246048cde8",
   "metadata": {},
   "outputs": [],
   "source": [
    "from sklearn.preprocessing import StandardScaler, OneHotEncoder\n",
    "from sklearn.compose import ColumnTransformer\n",
    "from sklearn.pipeline import Pipeline\n",
    "from sklearn.model_selection import train_test_split"
   ]
  },
  {
   "cell_type": "code",
   "execution_count": 67,
   "id": "058d391d-8c35-4238-b062-9b71900fec91",
   "metadata": {},
   "outputs": [],
   "source": [
    "# Assume X_train and X_test contain both numeric and categorical data\n",
    "\n",
    "# Define which columns are categorical\n",
    "categorical_columns = ['column_with_string']  # replace with actual column name\n",
    "numeric_columns = ['numeric_column1', 'numeric_column2']  # replace with actual numeric columns"
   ]
  },
  {
   "cell_type": "code",
   "execution_count": 69,
   "id": "bc76dd38-ffb5-4a6d-bc83-4df906e4ab90",
   "metadata": {},
   "outputs": [],
   "source": [
    "# Create a preprocessor pipeline\n",
    "preprocessor = ColumnTransformer(\n",
    "    transformers=[\n",
    "        ('num', StandardScaler(), numeric_columns),\n",
    "        ('cat', OneHotEncoder(), categorical_columns)\n",
    "    ]\n",
    ")"
   ]
  },
  {
   "cell_type": "code",
   "execution_count": 73,
   "id": "91590020-bb4b-41d8-8403-dae2d459edbb",
   "metadata": {},
   "outputs": [
    {
     "name": "stdout",
     "output_type": "stream",
     "text": [
      "Index(['USIA', 'PARITAS', 'JARAK KELAHIRAN', 'RIW HIPERTENSI', 'RIW PE',\n",
      "       'OBESITAS', 'RIW DM', 'RIW HIPERTENSI/PE DALAM KELUARGA',\n",
      "       'SOSEK RENDAH'],\n",
      "      dtype='object')\n"
     ]
    }
   ],
   "source": [
    "\n",
    "# Display the column names in X_train\n",
    "print(X_train.columns)\n"
   ]
  },
  {
   "cell_type": "code",
   "execution_count": 75,
   "id": "e8f447af-4f2c-45ec-ad17-32daf896ae52",
   "metadata": {},
   "outputs": [
    {
     "name": "stdout",
     "output_type": "stream",
     "text": [
      "Index(['USIA', 'PARITAS', 'JARAK KELAHIRAN', 'RIW HIPERTENSI', 'RIW PE',\n",
      "       'OBESITAS', 'RIW DM', 'RIW HIPERTENSI/PE DALAM KELUARGA',\n",
      "       'SOSEK RENDAH'],\n",
      "      dtype='object')\n"
     ]
    }
   ],
   "source": [
    "\n",
    "print(X_train.columns)\n"
   ]
  },
  {
   "cell_type": "code",
   "execution_count": 83,
   "id": "3c48b752-0b65-4404-a399-63cd106ee55c",
   "metadata": {},
   "outputs": [],
   "source": [
    "from sklearn.preprocessing import StandardScaler, OneHotEncoder\n",
    "from sklearn.compose import ColumnTransformer\n",
    "from sklearn.pipeline import Pipeline\n",
    "from sklearn.neighbors import KNeighborsClassifier\n",
    "from sklearn.model_selection import train_test_split"
   ]
  },
  {
   "cell_type": "code",
   "execution_count": 85,
   "id": "2e20bd16-d931-4f85-8a94-f3aa1de596c3",
   "metadata": {},
   "outputs": [],
   "source": [
    "# Define the names of numeric and categorical columns (replace with actual column names)\n",
    "numeric_columns = ['numeric_column1', 'numeric_column2']  # replace with actual numeric columns\n",
    "categorical_columns = ['column_with_string']  # replace with actual non-numeric column\n"
   ]
  },
  {
   "cell_type": "code",
   "execution_count": 87,
   "id": "aca94a42-7934-43ac-b74e-2c60d4418475",
   "metadata": {},
   "outputs": [],
   "source": [
    "# Create a ColumnTransformer to scale numeric data and encode categorical data\n",
    "preprocessor = ColumnTransformer(\n",
    "    transformers=[\n",
    "        ('num', StandardScaler(), numeric_columns),\n",
    "        ('cat', OneHotEncoder(), categorical_columns)\n",
    "    ]\n",
    ")"
   ]
  },
  {
   "cell_type": "code",
   "execution_count": 93,
   "id": "94653484-0b8c-4cb1-aa58-2a516b984575",
   "metadata": {},
   "outputs": [
    {
     "name": "stdout",
     "output_type": "stream",
     "text": [
      "Index(['USIA', 'PARITAS', 'JARAK KELAHIRAN', 'RIW HIPERTENSI', 'RIW PE',\n",
      "       'OBESITAS', 'RIW DM', 'RIW HIPERTENSI/PE DALAM KELUARGA',\n",
      "       'SOSEK RENDAH'],\n",
      "      dtype='object')\n"
     ]
    }
   ],
   "source": [
    "print(X_train.columns)  # This will show all columns in X_train\n"
   ]
  },
  {
   "cell_type": "code",
   "execution_count": 95,
   "id": "06e39da6-d7d3-4199-8e14-a454bb48bde1",
   "metadata": {},
   "outputs": [
    {
     "name": "stdout",
     "output_type": "stream",
     "text": [
      "USIA                                11\n",
      "PARITAS                              0\n",
      "JARAK KELAHIRAN                      4\n",
      "RIW HIPERTENSI                       0\n",
      "RIW PE                               0\n",
      "OBESITAS                             0\n",
      "RIW DM                               0\n",
      "RIW HIPERTENSI/PE DALAM KELUARGA     0\n",
      "SOSEK RENDAH                         0\n",
      "dtype: int64\n"
     ]
    }
   ],
   "source": [
    "# Check for missing values\n",
    "print(X_train.isnull().sum())\n"
   ]
  },
  {
   "cell_type": "code",
   "execution_count": 97,
   "id": "2b045e74-d1ab-42a7-8a59-1cc4056e9e1e",
   "metadata": {},
   "outputs": [
    {
     "name": "stdout",
     "output_type": "stream",
     "text": [
      "USIA                                float64\n",
      "PARITAS                               int64\n",
      "JARAK KELAHIRAN                      object\n",
      "RIW HIPERTENSI                       object\n",
      "RIW PE                               object\n",
      "OBESITAS                             object\n",
      "RIW DM                               object\n",
      "RIW HIPERTENSI/PE DALAM KELUARGA     object\n",
      "SOSEK RENDAH                         object\n",
      "dtype: object\n"
     ]
    }
   ],
   "source": [
    "print(X_train.dtypes)  # Check data types of each column\n"
   ]
  },
  {
   "cell_type": "code",
   "execution_count": 103,
   "id": "ffe72891-c93d-4e50-9217-590e9439cc51",
   "metadata": {},
   "outputs": [
    {
     "name": "stdout",
     "output_type": "stream",
     "text": [
      "Column Names: Index(['USIA', 'PARITAS', 'JARAK KELAHIRAN', 'RIW HIPERTENSI', 'RIW PE',\n",
      "       'OBESITAS', 'RIW DM', 'RIW HIPERTENSI/PE DALAM KELUARGA',\n",
      "       'SOSEK RENDAH'],\n",
      "      dtype='object')\n",
      "Data Types:\n",
      " USIA                                float64\n",
      "PARITAS                               int64\n",
      "JARAK KELAHIRAN                      object\n",
      "RIW HIPERTENSI                       object\n",
      "RIW PE                               object\n",
      "OBESITAS                             object\n",
      "RIW DM                               object\n",
      "RIW HIPERTENSI/PE DALAM KELUARGA     object\n",
      "SOSEK RENDAH                         object\n",
      "dtype: object\n",
      "Missing Values:\n",
      " USIA                                11\n",
      "PARITAS                              0\n",
      "JARAK KELAHIRAN                      4\n",
      "RIW HIPERTENSI                       0\n",
      "RIW PE                               0\n",
      "OBESITAS                             0\n",
      "RIW DM                               0\n",
      "RIW HIPERTENSI/PE DALAM KELUARGA     0\n",
      "SOSEK RENDAH                         0\n",
      "dtype: int64\n"
     ]
    }
   ],
   "source": [
    "print(\"Column Names:\", X_train.columns)\n",
    "print(\"Data Types:\\n\", X_train.dtypes)\n",
    "print(\"Missing Values:\\n\", X_train.isnull().sum())\n"
   ]
  },
  {
   "cell_type": "code",
   "execution_count": 107,
   "id": "b9b98122-b1ad-4df3-a6ee-8e5c1531bff0",
   "metadata": {},
   "outputs": [],
   "source": [
    "\n",
    "    # Create a pipeline with the preprocessor and KNN model\n",
    "    pipeline = Pipeline(steps=[\n",
    "        ('preprocessor', preprocessor),\n",
    "        ('knn', KNeighborsClassifier(n_neighbors=5))\n",
    "    ])"
   ]
  },
  {
   "cell_type": "code",
   "execution_count": 114,
   "id": "ab6e6b3a-7c72-4875-b8e7-a534a5cdad84",
   "metadata": {},
   "outputs": [],
   "source": [
    "# Define actual column names\n",
    "numeric_columns = ['numeric_column1', 'numeric_column2']  # Replace with actual numeric columns\n",
    "categorical_columns = ['categorical_column']  # Replace with actual categorical columns\n"
   ]
  },
  {
   "cell_type": "code",
   "execution_count": 116,
   "id": "9b5f2afe-f288-4463-b35a-3927402c2bb8",
   "metadata": {},
   "outputs": [],
   "source": [
    "# Confirm if these columns are in X_train\n",
    "missing_numeric = [col for col in numeric_columns if col not in X_train.columns]\n",
    "missing_categorical = [col for col in categorical_columns if col not in X_train.columns]"
   ]
  },
  {
   "cell_type": "code",
   "execution_count": 120,
   "id": "3791f853-bd4f-45fe-96f4-9813a4e2272f",
   "metadata": {},
   "outputs": [
    {
     "name": "stdout",
     "output_type": "stream",
     "text": [
      "Missing numeric columns: ['numeric_column1', 'numeric_column2']\n",
      "Missing categorical columns: ['categorical_column']\n"
     ]
    }
   ],
   "source": [
    "# Confirm if these columns are in X_train\n",
    "missing_numeric = [col for col in numeric_columns if col not in X_train.columns]\n",
    "missing_categorical = [col for col in categorical_columns if col not in X_train.columns]\n",
    "\n",
    "if missing_numeric or missing_categorical:\n",
    "    print(\"Missing numeric columns:\", missing_numeric)\n",
    "    print(\"Missing categorical columns:\", missing_categorical)\n",
    "else:\n",
    "    # Set up the preprocessing steps for numeric and categorical data\n",
    "    preprocessor = ColumnTransformer(\n",
    "        transformers=[\n",
    "            ('num', StandardScaler(), numeric_columns),\n",
    "            ('cat', OneHotEncoder(), categorical_columns)\n",
    "        ]\n",
    "    )\n"
   ]
  },
  {
   "cell_type": "code",
   "execution_count": 122,
   "id": "11e6111d-b7ce-424e-a210-fafff234e7fc",
   "metadata": {},
   "outputs": [],
   "source": [
    "\n",
    "    # Create a pipeline with the preprocessor and KNN model\n",
    "    pipeline = Pipeline(steps=[\n",
    "        ('preprocessor', preprocessor),\n",
    "        ('knn', KNeighborsClassifier(n_neighbors=5))\n",
    "    ])"
   ]
  },
  {
   "cell_type": "code",
   "execution_count": null,
   "id": "f49f1ad8-e01c-4f4b-b00a-899599b9b2ee",
   "metadata": {},
   "outputs": [],
   "source": []
  }
 ],
 "metadata": {
  "kernelspec": {
   "display_name": "Python 3 (ipykernel)",
   "language": "python",
   "name": "python3"
  },
  "language_info": {
   "codemirror_mode": {
    "name": "ipython",
    "version": 3
   },
   "file_extension": ".py",
   "mimetype": "text/x-python",
   "name": "python",
   "nbconvert_exporter": "python",
   "pygments_lexer": "ipython3",
   "version": "3.12.4"
  }
 },
 "nbformat": 4,
 "nbformat_minor": 5
}
